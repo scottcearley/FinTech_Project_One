{
 "cells": [
  {
   "cell_type": "code",
   "execution_count": 1,
   "id": "d506e4ec-e341-4bfb-88ce-af3d9b23c1fc",
   "metadata": {},
   "outputs": [
    {
     "ename": "ModuleNotFoundError",
     "evalue": "No module named 'MCForecastTools'",
     "output_type": "error",
     "traceback": [
      "\u001b[0;31m---------------------------------------------------------------------------\u001b[0m",
      "\u001b[0;31mModuleNotFoundError\u001b[0m                       Traceback (most recent call last)",
      "\u001b[0;32m/var/folders/_p/3r1_yxm51qdgymls3yz63gcm0000gn/T/ipykernel_1453/3389927117.py\u001b[0m in \u001b[0;36m<module>\u001b[0;34m\u001b[0m\n\u001b[1;32m      4\u001b[0m \u001b[0;32mimport\u001b[0m \u001b[0mdatetime\u001b[0m \u001b[0;32mas\u001b[0m \u001b[0mdt\u001b[0m\u001b[0;34m\u001b[0m\u001b[0;34m\u001b[0m\u001b[0m\n\u001b[1;32m      5\u001b[0m \u001b[0;32mfrom\u001b[0m \u001b[0mpathlib\u001b[0m \u001b[0;32mimport\u001b[0m \u001b[0mPath\u001b[0m\u001b[0;34m\u001b[0m\u001b[0;34m\u001b[0m\u001b[0m\n\u001b[0;32m----> 6\u001b[0;31m \u001b[0;32mfrom\u001b[0m \u001b[0mMCForecastTools\u001b[0m \u001b[0;32mimport\u001b[0m \u001b[0mMCSimulation\u001b[0m\u001b[0;34m\u001b[0m\u001b[0;34m\u001b[0m\u001b[0m\n\u001b[0m\u001b[1;32m      7\u001b[0m \u001b[0;34m\u001b[0m\u001b[0m\n\u001b[1;32m      8\u001b[0m \u001b[0mget_ipython\u001b[0m\u001b[0;34m(\u001b[0m\u001b[0;34m)\u001b[0m\u001b[0;34m.\u001b[0m\u001b[0mrun_line_magic\u001b[0m\u001b[0;34m(\u001b[0m\u001b[0;34m'matplotlib'\u001b[0m\u001b[0;34m,\u001b[0m \u001b[0;34m'inline'\u001b[0m\u001b[0;34m)\u001b[0m\u001b[0;34m\u001b[0m\u001b[0;34m\u001b[0m\u001b[0m\n",
      "\u001b[0;31mModuleNotFoundError\u001b[0m: No module named 'MCForecastTools'"
     ]
    }
   ],
   "source": [
    "import os\n",
    "import numpy as np\n",
    "import pandas as pd\n",
    "import datetime as dt\n",
    "from pathlib import Path\n",
    "from MCForecastTools import MCSimulation\n",
    "\n",
    "%matplotlib inline\n",
    "\n",
    "ppsf_data = Path(\".../FinTech/Project_One/Resources/ppsf.csv\")\n",
    "ppsf_df = pd.read_csv(ppsf_data)\n",
    "ppsf_df.head()"
   ]
  },
  {
   "cell_type": "code",
   "execution_count": null,
   "id": "4ec04ee1-8e5f-41f2-9ccd-5e613dea676b",
   "metadata": {},
   "outputs": [],
   "source": [
    "# transform table, reset index, and drop row [0]\n",
    "\n",
    "ppsf_df = ppsf_df.T\n",
    "ppsf_df.reset_index(drop=True, inplace=True)\n",
    "ppsf_df.drop(ppsf_df.index[0], inplace=True)\n",
    "ppsf_df"
   ]
  },
  {
   "cell_type": "code",
   "execution_count": null,
   "id": "cd9ba4f8-f4da-45aa-ad45-42cd638eb488",
   "metadata": {},
   "outputs": [],
   "source": [
    "ppsf_df[1]=ppsf_df[1].astype(float)\n",
    "ppsf_df"
   ]
  },
  {
   "cell_type": "code",
   "execution_count": null,
   "id": "95a4ff7e-ecb9-4412-b9e1-83a662c88e2c",
   "metadata": {},
   "outputs": [],
   "source": [
    "ppsf_df.plot(x=0,y=1,rot=90,figsize=(20,10),title='Price per Square Foot by Year - Maricopa County', ylabel='Price per Square Foot',grid=True, fontsize=18)"
   ]
  },
  {
   "cell_type": "code",
   "execution_count": null,
   "id": "619f4566-2b2c-462b-a532-186e3df265fe",
   "metadata": {},
   "outputs": [],
   "source": [
    "ppsf_df[2] = ppsf_df[1].pct_change()\n",
    "ppsf_df.plot(x=0,y=2, rot=90,figsize=(20,10), grid=True, title='Percent Change in PPSF over Time - Maricopa County', ylabel='Percent Change of PPSF')"
   ]
  },
  {
   "cell_type": "code",
   "execution_count": null,
   "id": "07baa038-e285-4096-b8be-a65642e63bc9",
   "metadata": {},
   "outputs": [],
   "source": [
    "# Set number of simulations\n",
    "num_sims = 500\n",
    "\n",
    "# Configure a Monte Carlo simulation to forecast one year monthly returns\n",
    "ddsf_MC = MCSimulation(\n",
    "    portfolio_data = ppsf_df,\n",
    "    num_simulation = num_sims,\n",
    "    num_trading_days = 12\n",
    ")"
   ]
  },
  {
   "cell_type": "code",
   "execution_count": null,
   "id": "dbff0a28-fb96-48dc-90b8-47ee38e44b06",
   "metadata": {},
   "outputs": [],
   "source": [
    "ddsf_MC.calc_cumulative_return()"
   ]
  },
  {
   "cell_type": "code",
   "execution_count": null,
   "id": "9491bffc-2833-4d25-8ebf-b089d52fb2f2",
   "metadata": {},
   "outputs": [],
   "source": []
  }
 ],
 "metadata": {
  "kernelspec": {
   "display_name": "dev",
   "language": "python",
   "name": "dev"
  },
  "language_info": {
   "codemirror_mode": {
    "name": "ipython",
    "version": 3
   },
   "file_extension": ".py",
   "mimetype": "text/x-python",
   "name": "python",
   "nbconvert_exporter": "python",
   "pygments_lexer": "ipython3",
   "version": "3.7.13"
  }
 },
 "nbformat": 4,
 "nbformat_minor": 5
}
