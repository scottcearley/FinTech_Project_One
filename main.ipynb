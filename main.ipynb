{
 "cells": [
  {
   "cell_type": "markdown",
   "metadata": {
    "slideshow": {
     "slide_type": "slide"
    }
   },
   "source": [
    "# Housing Analysis for Phoenix, Arizona \n",
    "\n",
    "##### Warren Denetsosie, Scott Cearley, Munqiz Minhas\n"
   ]
  },
  {
   "cell_type": "code",
   "execution_count": null,
   "metadata": {
    "slideshow": {
     "slide_type": "skip"
    }
   },
   "outputs": [],
   "source": [
    "# import libraries \n",
    "import pandas as pd \n",
    "import hvplot.pandas \n",
    "from pathlib import Path \n",
    "import datetime as dt\n",
    "import altair as alt \n",
    "import requests\n",
    "import json "
   ]
  },
  {
   "cell_type": "markdown",
   "metadata": {
    "slideshow": {
     "slide_type": "slide"
    }
   },
   "source": [
    "## Summary \n",
    "\n",
    "#### - Analyzing the Phoenix Housing Market pre-pandemic & post-pandemic to see how it affected total housing supply, prices, property types and the rental market. "
   ]
  },
  {
   "cell_type": "markdown",
   "metadata": {
    "slideshow": {
     "slide_type": "slide"
    }
   },
   "source": [
    "# Data Techniques \n",
    "\n",
    "#### - Redfin Data Center -- https://www.redfin.com/news/data-center/\n",
    "#### - Redfin RapidAPI \n",
    "#### - Zillow API "
   ]
  },
  {
   "cell_type": "code",
   "execution_count": null,
   "metadata": {
    "slideshow": {
     "slide_type": "skip"
    }
   },
   "outputs": [],
   "source": [
    "# pulling API data from RedFin\n",
    "url = \"https://unofficial-redfin.p.rapidapi.com/properties/list\"\n",
    "\n",
    "querystring = {\"region_id\":\"14240\",\"region_type\":\"6\",\"uipt\":\"1,2,3,7,8\",\"status\":\"9\",\"sf\":\"1,2,5,6,7\",\"num_homes\":\"300\",\"sold_within_days\":\"30\"}\n",
    "\n",
    "headers = {\n",
    "\t\"X-RapidAPI-Key\": \"b6a21fcaa0msh2e9de61afa99433p14003ajsnd33bf08e42ad\",\n",
    "\t\"X-RapidAPI-Host\": \"unofficial-redfin.p.rapidapi.com\"\n",
    "}\n",
    "\n",
    "response = requests.request(\"GET\", url, headers=headers, params=querystring)\n",
    "\n",
    "dataPHX = response.json()\n",
    "\n",
    "# display API pull status\n",
    "print(f\"Start API acquisition\")\n",
    "print(f\"------------&&&&-------------------\")\n",
    "\n",
    "# print(json.dumps(dataPHX, indent=4))\n",
    "\n",
    "querystring = {\"region_id\":\"7102\",\"region_type\":\"6\",\"uipt\":\"1,2,3,7,8\",\"status\":\"9\",\"sf\":\"1,2,5,6,7\",\"num_homes\":\"300\",\"sold_within_days\":\"30\"}\n",
    "\n",
    "headers = {\n",
    "\t\"X-RapidAPI-Key\": \"b6a21fcaa0msh2e9de61afa99433p14003ajsnd33bf08e42ad\",\n",
    "\t\"X-RapidAPI-Host\": \"unofficial-redfin.p.rapidapi.com\"\n",
    "}\n",
    "\n",
    "response = requests.request(\"GET\", url, headers=headers, params=querystring)\n",
    "\n",
    "dataGLEN = response.json()\n",
    "\n",
    "# print(json.dumps(dataGLEN, indent=4))"
   ]
  },
  {
   "cell_type": "code",
   "execution_count": null,
   "metadata": {
    "slideshow": {
     "slide_type": "skip"
    }
   },
   "outputs": [],
   "source": [
    "# cleaning data from RedFin \n",
    "property_id = []\n",
    "property_type = []\n",
    "beds = []\n",
    "baths = []\n",
    "square_ft_info = []\n",
    "price_info = []\n",
    "latitude = [] \n",
    "longitude = [] \n",
    "\n",
    "for homeData in dataGLEN['homes']:\n",
    "    property_id.append(homeData['homeData']['propertyId'])\n",
    "    property_type.append(homeData['homeData']['propertyType'])\n",
    "    #beds.append(homeData['homeData']['beds']['value'])\n",
    "    #baths.append(homeData['homeData']['baths']['value'])\n",
    "    try:\n",
    "        square_ft_info.append(homeData['homeData']['sqftInfo']['amount']['value'])\n",
    "    except KeyError:\n",
    "        square_ft_info.append(homeData['homeData']['sqftInfo']['amount'][\"NA\"])\n",
    "    price_info.append(homeData['homeData']['priceInfo']['amount']['value'])\n",
    "    latitude.append(homeData['homeData']['addressInfo']['centroid']['centroid']['latitude'])\n",
    "    longitude.append(homeData['homeData']['addressInfo']['centroid']['centroid']['longitude'])\n",
    "\n",
    "for homeData in dataPHX['homes']:\n",
    "    property_id.append(homeData['homeData']['propertyId'])\n",
    "    property_type.append(homeData['homeData']['propertyType'])\n",
    "    #beds.append(homeData['homeData']['beds']['value'])\n",
    "    #baths.append(homeData['homeData']['baths']['value'])\n",
    "    try:\n",
    "        square_ft_info.append(homeData['homeData']['sqftInfo']['amount']['value'])\n",
    "    except KeyError:\n",
    "        square_ft_info.append(\"0\")\n",
    "    price_info.append(homeData['homeData']['priceInfo']['amount']['value'])\n",
    "    latitude.append(homeData['homeData']['addressInfo']['centroid']['centroid']['latitude'])\n",
    "    longitude.append(homeData['homeData']['addressInfo']['centroid']['centroid']['longitude'])"
   ]
  },
  {
   "cell_type": "code",
   "execution_count": null,
   "metadata": {
    "slideshow": {
     "slide_type": "skip"
    }
   },
   "outputs": [],
   "source": [
    "# creating dataframe \n",
    "data_dict = {\"Property_ID\": property_id, \"Property_Type\": property_type, \"Square Footage\": square_ft_info, \"Price Info\": price_info, \"Latitude\": latitude, \"Longitude\": longitude}\n",
    "data_df = pd.DataFrame(data_dict)\n",
    "data_df['Square Footage']=data_df['Square Footage'].astype(float)\n",
    "data_df['Price Info']=data_df['Price Info'].astype(float)\n",
    "data_df['PPSF'] = data_df['Price Info'] / data_df['Square Footage']\n",
    "data_df"
   ]
  },
  {
   "cell_type": "code",
   "execution_count": null,
   "metadata": {
    "slideshow": {
     "slide_type": "slide"
    }
   },
   "outputs": [],
   "source": [
    "# Housing Property Type Listings plot (600 homes)\n",
    "data_df.hvplot.points(\n",
    "    'Longitude',\n",
    "    'Latitude', \n",
    "    geo = True, \n",
    "    xlabel = 'Latitude',\n",
    "    ylabel = 'Longitude', \n",
    "    frame_width = 1000, \n",
    "    frame_height = 650, \n",
    "    tiles = 'OSM',\n",
    "    color = 'Property_Type',\n",
    "    size = 'PPSF',\n",
    "    hover_cols = 'Price Info',\n",
    "    title = 'Phoenix and Glendale Housing Property Type Listings'\n",
    ")"
   ]
  },
  {
   "cell_type": "code",
   "execution_count": null,
   "metadata": {
    "slideshow": {
     "slide_type": "skip"
    }
   },
   "outputs": [],
   "source": [
    "# import the phoenix housing listings data\n",
    "phx_housing_listings_df = pd.read_csv(\n",
    "                                    Path('Resources/Phoenix_listings.csv'), \n",
    "                                    index_col = 'rawAddress')\n",
    "\n",
    "phx_housing_listings_df.drop(['Unnamed: 0', 'county', 'bedrooms', 'bathrooms', 'yearBuilt', 'lotSize',\n",
    "                            'addressLine1', 'city', 'state', 'formattedAddress', 'lastSeen', 'listedDate', 'status', \n",
    "                            'removedDate', 'daysOnMarket', 'createdDate', 'id', 'addressLine2' ], \n",
    "                            axis=1, inplace=True)\n",
    "\n",
    "phx_housing_listings_df = phx_housing_listings_df.dropna()\n",
    "\n",
    "# review the first and last five rows of the dataframe \n",
    "display(phx_housing_listings_df.head())"
   ]
  },
  {
   "cell_type": "code",
   "execution_count": null,
   "metadata": {
    "slideshow": {
     "slide_type": "slide"
    }
   },
   "outputs": [],
   "source": [
    "# plot to analyze housing listings info \n",
    "phx_housing_listings_df.hvplot.points(\n",
    "    'longitude',\n",
    "    'latitude', \n",
    "    xlabel = 'Latitude',\n",
    "    ylabel = 'Longitude',\n",
    "    geo = True, \n",
    "    frame_width = 1000, \n",
    "    frame_height = 650, \n",
    "    hover_cols = 'rawAddress',\n",
    "    #colorbar = False,\n",
    "    tiles = 'OSM',\n",
    "    color = 'price',\n",
    "    size = 'squareFootage',\n",
    "    title = 'Phoenix Housing Property Listings -- Interactive Heat Map'\n",
    ").opts(\n",
    "    yformatter = '%.0f',\n",
    ")"
   ]
  },
  {
   "cell_type": "code",
   "execution_count": null,
   "metadata": {
    "slideshow": {
     "slide_type": "skip"
    }
   },
   "outputs": [],
   "source": [
    "# import the phoenix rental housing listings data\n",
    "phx_housing_rental_listings_df = pd.read_csv(\n",
    "                                    Path('Resources/Phoenix_rent_listings.csv'), \n",
    "                                    index_col = 'rawAddress')\n",
    "\n",
    "phx_housing_rental_listings_df.drop(['Unnamed', 'addressLine1', 'formattedAddress', 'city', 'state', 'zipCode', 'county', \n",
    "                                    'bedrooms', 'bathrooms', 'createdDate', 'lastSeen', 'listedDate', 'status', \n",
    "                                    'removedDate', 'daysOnMarket', 'id', 'addressLine2', 'yearBuilt'], \n",
    "                                    axis=1, inplace=True)\n",
    "\n",
    "phx_housing_rental_listings_df = phx_housing_rental_listings_df.dropna()\n",
    "\n",
    "# review the first and last five rows of the dataframe \n",
    "display(phx_housing_rental_listings_df.head())"
   ]
  },
  {
   "cell_type": "code",
   "execution_count": null,
   "metadata": {
    "slideshow": {
     "slide_type": "subslide"
    }
   },
   "outputs": [],
   "source": [
    "# plot to analyze rental housing listings info \n",
    "phx_housing_rental_listings_df.hvplot.points(\n",
    "    'longitude',\n",
    "    'latitude', \n",
    "    xlabel = 'Latitude',\n",
    "    ylabel = 'Longitude',\n",
    "    geo = True, \n",
    "    frame_width = 1000, \n",
    "    frame_height = 650, \n",
    "    hover_cols = 'rawAddress',\n",
    "    tiles = 'OSM',\n",
    "    color = 'price',\n",
    "    size = 'squareFootage',\n",
    "    title = 'Phoenix Rental Housing Property Listings -- Interactive Heat Map'\n",
    ")"
   ]
  },
  {
   "cell_type": "code",
   "execution_count": null,
   "metadata": {
    "slideshow": {
     "slide_type": "skip"
    }
   },
   "outputs": [],
   "source": [
    "# import the housing units data from 2019 - 2022\n",
    "phx_housing_units_df = pd.read_csv(Path('Resources\\housing_inventory.csv'))\n",
    "\n",
    "# review the first and last five rows of the dataframe \n",
    "display(phx_housing_units_df.head())\n",
    "display(phx_housing_units_df.tail())"
   ]
  },
  {
   "cell_type": "code",
   "execution_count": null,
   "metadata": {
    "scrolled": true,
    "slideshow": {
     "slide_type": "slide"
    }
   },
   "outputs": [],
   "source": [
    "# visual aggregation exploring the housing units by year in Phoenix\n",
    "phx_housing_units_df.hvplot.bar(\n",
    "    x = 'Months', \n",
    "    xlabel = 'Period', \n",
    "    ylabel = 'All Homes for Sale', \n",
    "    title = 'All Homes for Sale in Phoenix, Arizona from 2019 to 2022', \n",
    "    yformatter = '%.0f',\n",
    "    rot = 90, \n",
    "    ylim = (1000,9000),\n",
    "    height = 500, \n",
    "    width = 1250\n",
    ").opts(\n",
    "    color = 'blue',\n",
    "    hover_color = 'orange'\n",
    ")"
   ]
  },
  {
   "cell_type": "code",
   "execution_count": null,
   "metadata": {
    "slideshow": {
     "slide_type": "skip"
    }
   },
   "outputs": [],
   "source": [
    "# read in the homes sold by year data\n",
    "homes_sold_data = Path(\"Resources/homes_sold.csv\")\n",
    "homes_sold_df = pd.read_csv(homes_sold_data)\n",
    "\n",
    "# drop extra columns\n",
    "homes_sold_df.drop(['Day of Year', 'Year of Period End', 'Period Begin', 'adjusted_average_homes_sold_yoy', 'Average Homes Sold Yoy (tooltip)'], \n",
    "                                    axis=1, inplace=True)\n",
    "\n",
    "homes_sold_df.rename(columns = {'Period End':'Period_End'}, inplace = True)\n",
    "\n",
    "# sort dates\n",
    "homes_sold_df['Period End'] = pd.to_datetime(homes_sold_df.Period_End)\n",
    "homes_sold_df.sort_values(['Period End'], ascending = False)\n",
    "homes_sold_df.drop(['Period_End'], axis = 1, inplace = True)\n",
    "\n",
    "display(homes_sold_df.head())\n",
    "display(homes_sold_df.tail())"
   ]
  },
  {
   "cell_type": "code",
   "execution_count": null,
   "metadata": {
    "slideshow": {
     "slide_type": "skip"
    }
   },
   "outputs": [],
   "source": [
    "# clean the data\n",
    "homes_sold_df['adjusted_average_homes_sold']=homes_sold_df['adjusted_average_homes_sold'].str.replace(',','').astype(float)"
   ]
  },
  {
   "cell_type": "code",
   "execution_count": null,
   "metadata": {
    "slideshow": {
     "slide_type": "skip"
    }
   },
   "outputs": [],
   "source": [
    "homes_sold_df.dtypes"
   ]
  },
  {
   "cell_type": "code",
   "execution_count": null,
   "metadata": {
    "scrolled": true,
    "slideshow": {
     "slide_type": "subslide"
    }
   },
   "outputs": [],
   "source": [
    "# homes sold visual \n",
    "homes_sold_plot = homes_sold_df.hvplot(\n",
    "    x=\"Period End\", \n",
    "    xlabel = \"Period End\", \n",
    "    ylabel = \"Adjusted Average Homes Sold\",\n",
    "    title = \"Adjusted Average Homes Sold by Year\",\n",
    "    rot = 90,\n",
    "    width = 1200, \n",
    "    height = 500, \n",
    "    )\n",
    "homes_sold_plot"
   ]
  },
  {
   "cell_type": "code",
   "execution_count": null,
   "metadata": {
    "slideshow": {
     "slide_type": "skip"
    }
   },
   "outputs": [],
   "source": [
    "# pull price per square foot csv \n",
    "ppsf_data = Path(\"Resources/2019_2022_ppsf.csv\")\n",
    "ppsf_df = pd.read_csv(ppsf_data)\n",
    "ppsf_df.head()"
   ]
  },
  {
   "cell_type": "code",
   "execution_count": null,
   "metadata": {
    "slideshow": {
     "slide_type": "skip"
    }
   },
   "outputs": [],
   "source": [
    "# transform table, reset index, and drop row [0]\n",
    "ppsf_df = ppsf_df.T\n",
    "ppsf_df.reset_index(drop=True, inplace=True)\n",
    "ppsf_df.drop(ppsf_df.index[0], inplace=True)\n",
    "ppsf_df.head()"
   ]
  },
  {
   "cell_type": "code",
   "execution_count": null,
   "metadata": {
    "slideshow": {
     "slide_type": "skip"
    }
   },
   "outputs": [],
   "source": [
    "# data cleaning \n",
    "ppsf_df[1]=ppsf_df[1].astype(float)\n",
    "\n",
    "ppsf_df.rename(columns = {\n",
    "    0 : \"Period\",\n",
    "    1 : \"PPSF\",\n",
    "}, inplace = True)\n",
    "\n",
    "display(ppsf_df.head())"
   ]
  },
  {
   "cell_type": "code",
   "execution_count": null,
   "metadata": {
    "slideshow": {
     "slide_type": "subslide"
    }
   },
   "outputs": [],
   "source": [
    "# PPSF visual \n",
    "ppsf_df.hvplot(\n",
    "            x='Period',\n",
    "            y='PPSF',\n",
    "            xlabel = 'Period',\n",
    "            rot=90,\n",
    "            width = 1000, \n",
    "            height = 500, \n",
    "            title='Price per Square Foot by Year - Maricopa County', \n",
    "            ylabel='Price per Square Foot',\n",
    "            grid=True)"
   ]
  },
  {
   "cell_type": "code",
   "execution_count": null,
   "metadata": {
    "slideshow": {
     "slide_type": "subslide"
    }
   },
   "outputs": [],
   "source": [
    "# percent change of PPSF visual \n",
    "ppsf_df['PPSF'] = ppsf_df['PPSF'].pct_change()\n",
    "ppsf_df.hvplot(\n",
    "            x='Period',\n",
    "            y='PPSF', \n",
    "            xlabel = 'Period', \n",
    "            rot=90,\n",
    "            width = 1000, \n",
    "            height = 500, \n",
    "            grid=True, \n",
    "            title='Percent Change in PPSF over Time - Maricopa County', \n",
    "            ylabel='Percent Change of PPSF')"
   ]
  },
  {
   "cell_type": "code",
   "execution_count": null,
   "metadata": {
    "slideshow": {
     "slide_type": "skip"
    }
   },
   "outputs": [],
   "source": [
    "# pulling data from investor purchases csv and creating dataframe\n",
    "investor_purchases_data = Path(\"Resources/investor_purchases_market_share.csv\")\n",
    "investor_purchases_df = pd.read_csv(investor_purchases_data)\n",
    "investor_purchases_df\n",
    "\n",
    "# removing commas and changing datatype to 'float'\n",
    "investor_purchases_df['All Home Sales']=investor_purchases_df['All Home Sales'].str.replace(',','').astype(float)\n",
    "investor_purchases_df['Investor Purchases']=investor_purchases_df['Investor Purchases'].str.replace(',','').astype(float)\n",
    "\n",
    "# setting 'Quarter' column to datetime format\n",
    "investor_purchases_df[\"Quarter\"] = pd.to_datetime(investor_purchases_df[\"Quarter\"])\n",
    "\n",
    "display(investor_purchases_df.head())\n",
    "display(investor_purchases_df.tail())"
   ]
  },
  {
   "cell_type": "markdown",
   "metadata": {
    "slideshow": {
     "slide_type": "slide"
    }
   },
   "source": [
    "# Altair Data Visualization Package \n",
    "\n",
    "#### Altair offers a powerful and concise visualization grammar that enables you to build a wide range of statistical visualizations quickly"
   ]
  },
  {
   "cell_type": "code",
   "execution_count": null,
   "metadata": {
    "scrolled": false,
    "slideshow": {
     "slide_type": "subslide"
    }
   },
   "outputs": [],
   "source": [
    "# plotting altair bar chart utilizing transform_fold feature (overlaying and creating legend)\n",
    "alt.Chart(investor_purchases_df).mark_bar().transform_fold(\n",
    "    ['All Home Sales', 'Investor Purchases'], \n",
    "    as_=['variable', 'value']\n",
    ").encode(\n",
    "    x='Quarter:T',\n",
    "    y='max(value):Q',\n",
    "    color='variable:N'\n",
    ").properties(\n",
    "    title='Total Sales and Investor Purchases by Year',\n",
    "    width=1200,\n",
    "    height=700)"
   ]
  },
  {
   "cell_type": "markdown",
   "metadata": {
    "slideshow": {
     "slide_type": "slide"
    }
   },
   "source": [
    "# Q&A "
   ]
  },
  {
   "cell_type": "markdown",
   "metadata": {
    "slideshow": {
     "slide_type": "slide"
    }
   },
   "source": [
    "# Links/Sources\n",
    "###### - https://github.com/Mun-Min/Project_One\n",
    "###### - https://www.redfin.com/news/data-center/ \n",
    "###### - https://rapidapi.com/apidojo/api/unofficial-redfin/ \n",
    "###### - https://rapidapi.com/realtymole/api/realty-mole-property-api/\n",
    "###### - https://rapidapi.com/apimaker/api/zillow-com1/\n",
    "###### - https://www.geeksforgeeks.org/top-8-python-libraries-for-data-visualization/\n",
    "###### - https://altair-viz.github.io/getting_started/overview.html"
   ]
  },
  {
   "cell_type": "markdown",
   "metadata": {
    "slideshow": {
     "slide_type": "subslide"
    }
   },
   "source": [
    "###### - https://rise.readthedocs.io/en/stable/usage.html"
   ]
  }
 ],
 "metadata": {
  "celltoolbar": "Slideshow",
  "hide_input": false,
  "kernelspec": {
   "display_name": "Python 3 (ipykernel)",
   "language": "python",
   "name": "python3"
  },
  "language_info": {
   "codemirror_mode": {
    "name": "ipython",
    "version": 3
   },
   "file_extension": ".py",
   "mimetype": "text/x-python",
   "name": "python",
   "nbconvert_exporter": "python",
   "pygments_lexer": "ipython3",
   "version": "3.7.13"
  },
  "vscode": {
   "interpreter": {
    "hash": "6a7ae136a53a24601e63a177d18d4029f938b6714f24b844ae865dcffb9f6766"
   }
  }
 },
 "nbformat": 4,
 "nbformat_minor": 4
}
