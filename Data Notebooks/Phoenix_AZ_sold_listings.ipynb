{
 "cells": [
  {
   "cell_type": "code",
   "execution_count": null,
   "metadata": {},
   "outputs": [],
   "source": [
    "# pulling data from zillow api (rapid api)\n",
    "import requests\n",
    "import json\n",
    "import pandas as pd\n",
    "\n",
    "url = \"https://zillow-com1.p.rapidapi.com/propertyExtendedSearch\"\n",
    "\n",
    "querystring = {\"location\":\"phoenix, az\",\"home_type\":\"Houses\", \"status_type\" : \"RecentlySold\"}\n",
    "\n",
    "headers = {\n",
    "\t\"X-RapidAPI-Key\": \"{key}\",\n",
    "\t\"X-RapidAPI-Host\": \"zillow-com1.p.rapidapi.com\"\n",
    "}\n",
    "\n",
    "response = requests.request(\"GET\", url, headers=headers, params=querystring)\n",
    "\n",
    "data = response.json() \n",
    "\n",
    "df = pd.json_normalize(data, record_path=['props'])\n",
    "df\n",
    "\n",
    "#df.to_csv('Phoenix_recently_sold_listings.csv')"
   ]
  },
  {
   "cell_type": "code",
   "execution_count": null,
   "metadata": {},
   "outputs": [],
   "source": [
    "# pulling data from redfin api (rapid api)\n",
    "import requests\n",
    "import json\n",
    "import pandas as pd\n",
    "\n",
    "url = \"https://unofficial-redfin.p.rapidapi.com/properties/list\"\n",
    "\n",
    "querystring = {\"region_id\":\"11323\",\"region_type\":\"6\",\"uipt\":\"1\",\"status\":\"1\",\"num_homes\":\"400\"}\n",
    "\n",
    "headers = {\n",
    "\t\"X-RapidAPI-Key\": \"{key}\",\n",
    "\t\"X-RapidAPI-Host\": \"unofficial-redfin.p.rapidapi.com\"\n",
    "}\n",
    "\n",
    "response = requests.request(\"GET\", url, headers=headers, params=querystring)\n",
    "\n",
    "data = response.json() \n",
    "\n",
    "#df = pd.json_normalize(data, record_path=['homes'])\n",
    "#df\n",
    "\n",
    "print(json.dumps(data, indent=4))"
   ]
  }
 ],
 "metadata": {
  "kernelspec": {
   "display_name": "Python 3 (ipykernel)",
   "language": "python",
   "name": "python3"
  },
  "language_info": {
   "codemirror_mode": {
    "name": "ipython",
    "version": 3
   },
   "file_extension": ".py",
   "mimetype": "text/x-python",
   "name": "python",
   "nbconvert_exporter": "python",
   "pygments_lexer": "ipython3",
   "version": "3.7.13"
  },
  "vscode": {
   "interpreter": {
    "hash": "6a7ae136a53a24601e63a177d18d4029f938b6714f24b844ae865dcffb9f6766"
   }
  }
 },
 "nbformat": 4,
 "nbformat_minor": 4
}
