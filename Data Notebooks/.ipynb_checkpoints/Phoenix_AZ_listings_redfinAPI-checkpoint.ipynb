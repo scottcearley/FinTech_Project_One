{
 "cells": [
  {
   "cell_type": "code",
   "execution_count": 2,
   "metadata": {},
   "outputs": [
    {
     "name": "stdout",
     "output_type": "stream",
     "text": [
      "Start API acquisition\n"
     ]
    },
    {
     "ename": "KeyError",
     "evalue": "'homes'",
     "output_type": "error",
     "traceback": [
      "\u001b[0;31m---------------------------------------------------------------------------\u001b[0m",
      "\u001b[0;31mKeyError\u001b[0m                                  Traceback (most recent call last)",
      "\u001b[0;32m/var/folders/_p/3r1_yxm51qdgymls3yz63gcm0000gn/T/ipykernel_52083/3278030919.py\u001b[0m in \u001b[0;36m<module>\u001b[0;34m\u001b[0m\n\u001b[1;32m     36\u001b[0m \u001b[0;31m#df = pd.DataFrame.from_dict(data, orient = 'index')\u001b[0m\u001b[0;34m\u001b[0m\u001b[0;34m\u001b[0m\u001b[0;34m\u001b[0m\u001b[0m\n\u001b[1;32m     37\u001b[0m \u001b[0;34m\u001b[0m\u001b[0m\n\u001b[0;32m---> 38\u001b[0;31m \u001b[0mproperty_type\u001b[0m \u001b[0;34m=\u001b[0m \u001b[0mdata\u001b[0m\u001b[0;34m[\u001b[0m\u001b[0;34m'homes'\u001b[0m\u001b[0;34m]\u001b[0m\u001b[0;34m[\u001b[0m\u001b[0;36m0\u001b[0m\u001b[0;34m]\u001b[0m\u001b[0;34m[\u001b[0m\u001b[0;34m'homeData'\u001b[0m\u001b[0;34m]\u001b[0m\u001b[0;34m[\u001b[0m\u001b[0;34m'propertyType'\u001b[0m\u001b[0;34m]\u001b[0m\u001b[0;34m\u001b[0m\u001b[0;34m\u001b[0m\u001b[0m\n\u001b[0m\u001b[1;32m     39\u001b[0m \u001b[0mbeds\u001b[0m \u001b[0;34m=\u001b[0m \u001b[0mdata\u001b[0m\u001b[0;34m[\u001b[0m\u001b[0;34m'homes'\u001b[0m\u001b[0;34m]\u001b[0m\u001b[0;34m[\u001b[0m\u001b[0;36m0\u001b[0m\u001b[0;34m]\u001b[0m\u001b[0;34m[\u001b[0m\u001b[0;34m'homeData'\u001b[0m\u001b[0;34m]\u001b[0m\u001b[0;34m[\u001b[0m\u001b[0;34m'beds'\u001b[0m\u001b[0;34m]\u001b[0m\u001b[0;34m[\u001b[0m\u001b[0;34m'value'\u001b[0m\u001b[0;34m]\u001b[0m\u001b[0;34m\u001b[0m\u001b[0;34m\u001b[0m\u001b[0m\n\u001b[1;32m     40\u001b[0m \u001b[0mbaths\u001b[0m \u001b[0;34m=\u001b[0m \u001b[0mdata\u001b[0m\u001b[0;34m[\u001b[0m\u001b[0;34m'homes'\u001b[0m\u001b[0;34m]\u001b[0m\u001b[0;34m[\u001b[0m\u001b[0;36m0\u001b[0m\u001b[0;34m]\u001b[0m\u001b[0;34m[\u001b[0m\u001b[0;34m'homeData'\u001b[0m\u001b[0;34m]\u001b[0m\u001b[0;34m[\u001b[0m\u001b[0;34m'baths'\u001b[0m\u001b[0;34m]\u001b[0m\u001b[0;34m[\u001b[0m\u001b[0;34m'value'\u001b[0m\u001b[0;34m]\u001b[0m\u001b[0;34m\u001b[0m\u001b[0;34m\u001b[0m\u001b[0m\n",
      "\u001b[0;31mKeyError\u001b[0m: 'homes'"
     ]
    }
   ],
   "source": [
    "import requests\n",
    "import json \n",
    "import pandas as pd\n",
    "\n",
    "region_id = 14240\n",
    "\n",
    "url = \"https://unofficial-redfin.p.rapidapi.com/properties/list?region_id=14240&region_type=2&uipt=1&status=1&num_homes=300\"\n",
    "\n",
    "beds = []\n",
    "baths = []\n",
    "property_type = []\n",
    "price_info = [] \n",
    "latitude = [] \n",
    "longitude = [] \n",
    "\n",
    "print(f\"Start API acquisition\")\n",
    "\n",
    "\n",
    "#querystring = {\"region_id\":\"14240\",\"region_type\":\"2\",\"uipt\":\"1\",\"status\":\"1\",\"num_homes\":\"300\"}\n",
    "\n",
    "headers = {\n",
    "\t\"X-RapidAPI-Key\": \"{key}\",\n",
    "\t\"X-RapidAPI-Host\": \"unofficial-redfin.p.rapidapi.com\"\n",
    "}\n",
    "\n",
    "response = requests.request(\"GET\", url, headers=headers, params=querystring)\n",
    "\n",
    "data = response.json() \n",
    "\n",
    "#for i in range(80):\n",
    "\t#beds = data['homes'][i]['homeData']['beds']['value']\n",
    "\n",
    "# df = pd.DataFrame.from_dict(data['homes'][0])\n",
    "# df\n",
    "\n",
    "#df = pd.DataFrame.from_dict(data, orient = 'index')\n",
    "\n",
    "property_type = data['homes'][0]['homeData']['propertyType']\n",
    "beds = data['homes'][0]['homeData']['beds']['value']\n",
    "baths = data['homes'][0]['homeData']['baths']['value']\n",
    "price_info = data['homes'][0]['homeData']['priceInfo']['amount']['value']\n",
    "latitude = data['homes'][0]['homeData']['addressInfo']['centroid']['centroid']['latitude']\n",
    "longitude = data['homes'][0]['homeData']['addressInfo']['centroid']['centroid']['longitude']\n",
    "\n",
    "\n",
    "\n",
    "# dict= {\"BEDS\":beds}\n",
    "# print(beds)\n",
    "\n",
    "# type(data)\n",
    "print(json.dumps(data, indent=4))"
   ]
  },
  {
   "cell_type": "code",
   "execution_count": null,
   "metadata": {},
   "outputs": [],
   "source": []
  }
 ],
 "metadata": {
  "kernelspec": {
   "display_name": "Python 3 (ipykernel)",
   "language": "python",
   "name": "python3"
  },
  "language_info": {
   "codemirror_mode": {
    "name": "ipython",
    "version": 3
   },
   "file_extension": ".py",
   "mimetype": "text/x-python",
   "name": "python",
   "nbconvert_exporter": "python",
   "pygments_lexer": "ipython3",
   "version": "3.7.13"
  },
  "vscode": {
   "interpreter": {
    "hash": "6a7ae136a53a24601e63a177d18d4029f938b6714f24b844ae865dcffb9f6766"
   }
  }
 },
 "nbformat": 4,
 "nbformat_minor": 4
}
